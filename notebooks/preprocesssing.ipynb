{
 "cells": [
  {
   "cell_type": "markdown",
   "metadata": {},
   "source": [
    "# Import required libraries"
   ]
  },
  {
   "cell_type": "code",
   "execution_count": null,
   "metadata": {},
   "outputs": [],
   "source": [
    "from mediapipe import solutions\n",
    "from mediapipe.framework.formats import landmark_pb2\n",
    "import numpy as np\n",
    "import cv2 as cv\n",
    "import matplotlib.pyplot as plt\n",
    "import os\n",
    "import string\n",
    "import mediapipe as mp\n",
    "from mediapipe.tasks import python\n",
    "from mediapipe.tasks.python import vision\n",
    "import pandas as pd\n",
    "import pickle\n",
    "import PIL as pil"
   ]
  },
  {
   "cell_type": "markdown",
   "metadata": {},
   "source": [
    "# Testing of preprocessor to extract the handcoordinate"
   ]
  },
  {
   "cell_type": "code",
   "execution_count": null,
   "metadata": {},
   "outputs": [],
   "source": [
    "# mp_hands = mp.solutions.hands\n",
    "# mp_drawing = mp.solutions.drawing_utils\n",
    "# mp_drawing_styles = mp.solutions.drawing_styles\n",
    "# hands = mp_hands.Hands(static_image_mode=True, min_detection_confidence = 0.3,\n",
    "#                        max_num_hands=1)\n",
    "# def pred_preprocessor(image):\n",
    "#     '''\n",
    "#     Parameters: image -> numpy ndarray\n",
    "#     Returns: final_coords -> 1 row of DataFrame, final_image -> numpy ndarray\n",
    "#     Preprocessed by cropping the hand and padding to square followed\n",
    "#     by resizing to 200 x 200 x 3\n",
    "#     '''\n",
    "#     image_rgb = cv.cvtColor(image, cv.COLOR_BGR2RGB)\n",
    "#     results = hands.process(image_rgb)\n",
    "    \n",
    "#     # Extract the hand locations from the results\n",
    "#     hand_locations = []\n",
    "    \n",
    "\n",
    "    \n",
    "#     if results.multi_hand_landmarks:\n",
    "#         for hand_landmarks in results.multi_hand_landmarks:\n",
    "#             for landmark in hand_landmarks.landmark:\n",
    "#                 # Convert the normalized landmark coordinates to pixel coordinates\n",
    "#                 image_height, image_width, _ = image.shape\n",
    "#                 x = int(landmark.x * image_width)\n",
    "#                 y = int(landmark.y * image_height)\n",
    "#                 hand_locations.append((x, y))\n",
    "                \n",
    "#     x = []\n",
    "#     y = []\n",
    "#     for i,j in hand_locations:\n",
    "#         x.append(i)\n",
    "#         y.append(j)\n",
    "        \n",
    "#     extra = int(0.05*image.shape[1])\n",
    "#     x_max, x_min = max(x)+extra, min(x)-extra\n",
    "#     y_min, y_max = min(y)-extra, max(y)+extra\n",
    "    \n",
    "#     resized_img = image[y_min:y_max, x_min:x_max]\n",
    "#     width = resized_img.shape[1]\n",
    "#     height = resized_img.shape[0]\n",
    "\n",
    "    \n",
    "#     if height != width:\n",
    "#         if width > height:\n",
    "#             padding = int((width - height)/2)\n",
    "#             final_img = np.vstack((np.zeros((padding, width, 3)), resized_img,\n",
    "#                                 np.zeros((padding, width, 3))))\n",
    "#         elif height > width:\n",
    "#             padding = int((height-width)/2)\n",
    "#             final_img = np.hstack((np.zeros((height, padding, 3)), resized_img,\n",
    "#                                 np.zeros((height, padding, 3))))\n",
    "#     else:\n",
    "#         final_img = resized_img\n",
    "        \n",
    "#     width = final_img.shape[1]\n",
    "#     height = final_img.shape[0]\n",
    "    \n",
    "#     final_img = np.vstack((np.zeros((100, width, 3)), final_img,\n",
    "#                                 np.zeros((100, width, 3))))\n",
    "#     final_img = np.hstack((np.zeros((height+200, 100, 3)), final_img,\n",
    "#                                 np.zeros((height+200, 100, 3))))\n",
    "#     final_img = cv.resize(final_img, (200, 200)).astype('uint8')\n",
    "    \n",
    "#     cv.imwrite('final_img.jpg', final_img)\n",
    "    \n",
    "#     coords = []\n",
    "#     new_results = hands.process(final_img)\n",
    "    \n",
    "\n",
    "    \n",
    "#     if new_results.multi_hand_landmarks:\n",
    "#         for hand_landmarks in new_results.multi_hand_landmarks:\n",
    "            \n",
    "#             for i in range(len(hand_landmarks.landmark)):\n",
    "#                 x = hand_landmarks.landmark[i].x\n",
    "#                 y = hand_landmarks.landmark[i].y\n",
    "#                 coords.append(x)\n",
    "#                 coords.append(y)\n",
    "\n",
    "           \n",
    "#     final_coords = pd.DataFrame([coords])\n",
    "#     return final_coords, final_img"
   ]
  },
  {
   "cell_type": "code",
   "execution_count": null,
   "metadata": {},
   "outputs": [],
   "source": [
    "# ar=cv.imread('Test/A/20230627_144450_003.jpg')\n",
    "# resized = cv.resize(ar, (200,200))"
   ]
  },
  {
   "cell_type": "code",
   "execution_count": null,
   "metadata": {},
   "outputs": [],
   "source": [
    "# ###x,y,z coordinates\n",
    "\n",
    "\n",
    "# def get_coords(final_img):\n",
    "#     result = hands.process(final_img)\n",
    "    \n",
    "#     coords = []\n",
    "    \n",
    "#     if result.multi_hand_landmarks:\n",
    "#         for hand_landmarks in result.multi_hand_landmarks:\n",
    "        \n",
    "#             for i in range(len(hand_landmarks.landmark)):\n",
    "#                 x = hand_landmarks.landmark[i].x\n",
    "#                 y = hand_landmarks.landmark[i].y\n",
    "#                 z = hand_landmarks.landmark[i].z\n",
    "#                 coords.append(x)\n",
    "#                 coords.append(y)\n",
    "#                 coords.append(z)\n",
    "                \n",
    "#     return coords"
   ]
  },
  {
   "cell_type": "markdown",
   "metadata": {},
   "source": [
    "# Function to collect the 21 pairs of handcoordinate "
   ]
  },
  {
   "cell_type": "code",
   "execution_count": null,
   "metadata": {},
   "outputs": [],
   "source": [
    "mp_hands = mp.solutions.hands\n",
    "mp_drawing = mp.solutions.drawing_utils\n",
    "mp_drawing_styles = mp.solutions.drawing_styles\n",
    "hands = mp_hands.Hands(static_image_mode=True, min_detection_confidence = 0.3,\n",
    "                       max_num_hands=1)\n",
    "def get_coords(final_img):\n",
    "    '''\n",
    "    final_image should be in numpy array.\n",
    "    function will return a list of 21 pairs of hand coordinate.\n",
    "    '''\n",
    "    result = hands.process(final_img)\n",
    "    \n",
    "    coords = []\n",
    "    \n",
    "    if result.multi_hand_landmarks:\n",
    "        for hand_landmarks in result.multi_hand_landmarks:\n",
    "        \n",
    "            for i in range(len(hand_landmarks.landmark)):\n",
    "                x = hand_landmarks.landmark[i].x\n",
    "                y = hand_landmarks.landmark[i].y\n",
    "                coords.append(x)\n",
    "                coords.append(y)\n",
    "                \n",
    "    return coords\n"
   ]
  },
  {
   "cell_type": "markdown",
   "metadata": {},
   "source": [
    "# Loop to extract all the image path and its label from the directory "
   ]
  },
  {
   "cell_type": "code",
   "execution_count": null,
   "metadata": {},
   "outputs": [],
   "source": [
    "CURRENT=os.getcwd()\n",
    "IMAGES_PATH = os.path.join(CURRENT, './Test/')\n",
    "\n",
    "image_list=[]\n",
    "image_path_list=[]\n",
    "label_list=[]\n",
    "\n",
    "for path in os.listdir(IMAGES_PATH):\n",
    "    # print(path)\n",
    "    \n",
    "    if path in string.ascii_uppercase:\n",
    "        file_path= os.path.join(IMAGES_PATH,path)\n",
    "        # print(file_path)\n",
    "        \n",
    "        for path_1 in os.listdir(file_path):\n",
    "            if path_1.endswith('jpg') or path_1.endswith('jpeg'):\n",
    "                final_path=os.path.join(file_path,path_1)\n",
    "                # print(final_path)\n",
    "                \n",
    "                label_list.append(path)\n",
    "                image_path_list.append(final_path)\n"
   ]
  },
  {
   "cell_type": "markdown",
   "metadata": {},
   "source": [
    "# Checking of the collected image path list and label list"
   ]
  },
  {
   "cell_type": "code",
   "execution_count": null,
   "metadata": {},
   "outputs": [],
   "source": [
    "print(len(image_path_list))\n",
    "print(len(label_list))"
   ]
  },
  {
   "cell_type": "code",
   "execution_count": null,
   "metadata": {},
   "outputs": [],
   "source": [
    "np.unique(label_list)"
   ]
  },
  {
   "cell_type": "markdown",
   "metadata": {},
   "source": [
    "# Loop to input the image path and convert it to hand coordinate using the function being define in the above session.\n",
    "### The input of the get_coords function must be in numpy array  \n"
   ]
  },
  {
   "cell_type": "code",
   "execution_count": null,
   "metadata": {},
   "outputs": [],
   "source": [
    "coordinate=[]\n",
    "label=[]\n",
    "\n",
    "for i,j in enumerate(image_path_list):\n",
    "    array=pil.Image.open(j)\n",
    "    array=np.array(array)\n",
    "    checking=get_coords(array)\n",
    "    # print(checking)\n",
    "    if checking:\n",
    "        coordinate.append(checking)\n",
    "        label.append(label_list[i])\n",
    "        \n",
    "    \n",
    "    \n",
    "    \n",
    "    \n",
    "    \n",
    "    "
   ]
  }
 ],
 "metadata": {
  "kernelspec": {
   "display_name": "lewagon",
   "language": "python",
   "name": "python3"
  },
  "language_info": {
   "codemirror_mode": {
    "name": "ipython",
    "version": 3
   },
   "file_extension": ".py",
   "mimetype": "text/x-python",
   "name": "python",
   "nbconvert_exporter": "python",
   "pygments_lexer": "ipython3",
   "version": "3.10.6"
  },
  "orig_nbformat": 4
 },
 "nbformat": 4,
 "nbformat_minor": 2
}
