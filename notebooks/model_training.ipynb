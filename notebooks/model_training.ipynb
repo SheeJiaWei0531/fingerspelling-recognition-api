{
 "cells": [
  {
   "cell_type": "markdown",
   "metadata": {},
   "source": [
    "# Import required libraries"
   ]
  },
  {
   "cell_type": "code",
   "execution_count": 40,
   "metadata": {},
   "outputs": [],
   "source": [
    "import numpy as np\n",
    "import cv2 as cv\n",
    "import matplotlib.pyplot as plt\n",
    "import os\n",
    "from sklearn.model_selection import cross_validate,train_test_split,cross_val_score,RandomizedSearchCV,learning_curve\n",
    "from sklearn.ensemble import RandomForestClassifier, StackingClassifier,AdaBoostClassifier,VotingClassifier,GradientBoostingClassifier\n",
    "from xgboost import XGBClassifier\n",
    "from lightgbm import LGBMClassifier\n",
    "from hyperopt import fmin, hp, tpe, Trials,STATUS_OK\n",
    "import pickle\n",
    "import pandas as pd\n",
    "from imblearn.under_sampling import RandomUnderSampler\n",
    "from sklearn.preprocessing import LabelEncoder,OneHotEncoder\n",
    "from sklearn.metrics import confusion_matrix, ConfusionMatrixDisplay, accuracy_score,f1_score,recall_score,precision_score,classification_report,make_scorer\n",
    "from sklearn.neighbors import KNeighborsClassifier\n",
    "from sklearn.linear_model import LogisticRegression\n",
    "from imblearn.over_sampling import RandomOverSampler,SMOTE\n",
    "from sklearn.svm import SVC\n",
    "import time\n",
    "import seaborn as sns\n",
    "from collections import Counter\n",
    "import mediapipe as mp\n",
    "import string"
   ]
  },
  {
   "cell_type": "markdown",
   "metadata": {},
   "source": [
    "# Load the required training and testing dataframes"
   ]
  },
  {
   "cell_type": "code",
   "execution_count": 41,
   "metadata": {},
   "outputs": [],
   "source": [
    "f=open('final_training_df.pickle','rb')\n",
    "train_df=pickle.load(f)\n",
    "f.close()"
   ]
  },
  {
   "cell_type": "code",
   "execution_count": 42,
   "metadata": {},
   "outputs": [],
   "source": [
    "f=open('pin_test_df.pickle','rb')\n",
    "test_df=pickle.load(f)\n",
    "f.close()"
   ]
  },
  {
   "cell_type": "markdown",
   "metadata": {},
   "source": [
    "# Featuring engineering to create one more feature.\n",
    "### Ratio of hand based on the maximum coordinate point in x and y"
   ]
  },
  {
   "cell_type": "code",
   "execution_count": 45,
   "metadata": {},
   "outputs": [],
   "source": [
    "for index, row in train_df.iterrows():\n",
    "    x_list=[]\n",
    "    y_list=[]\n",
    "    \"\"\"\n",
    "    For each row, consist a hand sign with 21 pairs of hand coordinate (x1,y1,x2,y2,....,x21,y21)\n",
    "    Extract all x and y out as separate list\n",
    "    Get the max and min of both x and y\n",
    "    Use max x minus min x and max y minus min y.\n",
    "    Then divide it and get the ratio for each hand sign.\n",
    "    Idea is the same hand sign, the ratio should be more or less the same.\n",
    "    The feature is to make the model more robush to hand with the similar sign.\n",
    "    Then add this ratio of each hand sign to a new column.\n",
    "    One picture is one row given a handsign.\n",
    "    \"\"\"\n",
    "    for i in range(42):\n",
    "        if i % 2 == 0:\n",
    "            x_list.append(row[i])\n",
    "            # print(i)\n",
    "            # max_x = np.max(row[i])\n",
    "            # min_x = np.min(row[i])\n",
    "        else:\n",
    "            # max_y = np.max(row[i])\n",
    "            # min_y = np.min(row[i])\n",
    "            y_list.append(row[i])\n",
    "    max_x = np.max(x_list)\n",
    "    min_x = np.min(x_list)  \n",
    "    max_y = np.max(y_list)\n",
    "    min_y = np.min(y_list) \n",
    "    \n",
    "    ratio = (max_x - min_x) / (max_y - min_y)\n",
    "    train_df.loc[index, '42'] = ratio"
   ]
  },
  {
   "cell_type": "markdown",
   "metadata": {},
   "source": [
    "# Applying same method for test dataframe"
   ]
  },
  {
   "cell_type": "code",
   "execution_count": 46,
   "metadata": {},
   "outputs": [],
   "source": [
    "for index, row in test_df.iterrows():\n",
    "    x_list=[]\n",
    "    y_list=[]\n",
    "\n",
    "    for i in range(42):\n",
    "        if i % 2 == 0:\n",
    "            x_list.append(row[i])\n",
    "            # print(i)\n",
    "            # max_x = np.max(row[i])\n",
    "            # min_x = np.min(row[i])\n",
    "        else:\n",
    "            # max_y = np.max(row[i])\n",
    "            # min_y = np.min(row[i])\n",
    "            y_list.append(row[i])\n",
    "    max_x = np.max(x_list)\n",
    "    min_x = np.min(x_list)  \n",
    "    max_y = np.max(y_list)\n",
    "    min_y = np.min(y_list) \n",
    "    \n",
    "    ratio = (max_x - min_x) / (max_y - min_y)\n",
    "    test_df.loc[index, '42'] = ratio"
   ]
  },
  {
   "cell_type": "markdown",
   "metadata": {},
   "source": [
    "# Check the class balancing"
   ]
  },
  {
   "cell_type": "code",
   "execution_count": 48,
   "metadata": {},
   "outputs": [
    {
     "data": {
      "text/plain": [
       "<AxesSubplot:xlabel='label', ylabel='Count'>"
      ]
     },
     "execution_count": 48,
     "metadata": {},
     "output_type": "execute_result"
    },
    {
     "data": {
      "image/png": "[encoded data removed]",
      "text/plain": [
       "<Figure size 640x480 with 1 Axes>"
      ]
     },
     "metadata": {},
     "output_type": "display_data"
    }
   ],
   "source": [
    "\n",
    "sns.histplot(train_df['label'])\n",
    "\n",
    "# Class inbalance, futher processing is needed later"
   ]
  },
  {
   "cell_type": "markdown",
   "metadata": {},
   "source": [
    "# Train test split based on train and test dataframe"
   ]
  },
  {
   "cell_type": "code",
   "execution_count": 49,
   "metadata": {},
   "outputs": [],
   "source": [
    "X_train = train_df.drop('label', axis=1)\n",
    "y_train = train_df['label']\n",
    "X_test = test_df.drop('label', axis=1)\n",
    "y_test = test_df['label']\n"
   ]
  },
  {
   "cell_type": "markdown",
   "metadata": {},
   "source": [
    "# Perform oversampler technique to balance the class"
   ]
  },
  {
   "cell_type": "code",
   "execution_count": 50,
   "metadata": {},
   "outputs": [
    {
     "name": "stderr",
     "output_type": "stream",
     "text": [
      "/home/jwshee/.pyenv/versions/3.10.6/envs/lewagon/lib/python3.10/site-packages/sklearn/utils/validation.py:1858: FutureWarning: Feature names only support names that are all strings. Got feature names with dtypes: ['int', 'str']. An error will be raised in 1.2.\n",
      "  warnings.warn(\n"
     ]
    }
   ],
   "source": [
    "\n",
    "os = RandomOverSampler()\n",
    "X_train_res, y_train_res = os.fit_resample(X_train, y_train)\n"
   ]
  },
  {
   "cell_type": "markdown",
   "metadata": {},
   "source": [
    "# Label encoding the target of train and test. We have total 26 letters of alphabet. After the encoding, we have value from 0-25. 0 refering to A while 25 refering to Z"
   ]
  },
  {
   "cell_type": "code",
   "execution_count": 51,
   "metadata": {},
   "outputs": [],
   "source": [
    "encoder=LabelEncoder()\n",
    "y_train_res_encoded=encoder.fit_transform(y_train_res)\n",
    "y_test_encoded=encoder.transform(y_test)"
   ]
  },
  {
   "cell_type": "markdown",
   "metadata": {},
   "source": [
    "# Mahcine learning start with three different algorithms"
   ]
  },
  {
   "cell_type": "code",
   "execution_count": 52,
   "metadata": {},
   "outputs": [],
   "source": [
    "model_lgb=LGBMClassifier(boosting_type='dart', num_leaves=20, max_depth=6, learning_rate=0.3, n_estimators=100, min_child_samples=400, subsample=0.5,\n",
    "                         colsample_bytree=1.0, reg_alpha=0.6, reg_lambda=0.8, n_jobs=-1,objective='multiclass')\n",
    "model_xg=XGBClassifier()\n",
    "model_forest=RandomForestClassifier(oob_score=True)\n",
    "# model_svc=SVC(C=0.1,gamma=10,probability=True)\n",
    "# model_k=KNeighborsClassifier(n_neighbors=17,weights='uniform',algorithm='ball_tree')"
   ]
  },
  {
   "cell_type": "markdown",
   "metadata": {},
   "source": [
    "# Created a few dictionary to store the details\n",
    "### The trained model also being store in a dictionary as value. So later, different trained model can be direcly called out from the dictionary given a key. In this method, we do not loss all the details and do not need to keep calling different model with different name. Just call the dictionary will do."
   ]
  },
  {
   "cell_type": "code",
   "execution_count": 53,
   "metadata": {},
   "outputs": [
    {
     "name": "stdout",
     "output_type": "stream",
     "text": [
      "model_lgb training time: 2.750257968902588 seconds\n",
      "model_lgb prediction time: 0.011474132537841797 seconds\n",
      "model_xg training time: 17.37993884086609 seconds\n",
      "model_xg prediction time: 0.005774021148681641 seconds\n"
     ]
    },
    {
     "name": "stderr",
     "output_type": "stream",
     "text": [
      "/home/jwshee/.pyenv/versions/3.10.6/envs/lewagon/lib/python3.10/site-packages/sklearn/utils/validation.py:1858: FutureWarning: Feature names only support names that are all strings. Got feature names with dtypes: ['int', 'str']. An error will be raised in 1.2.\n",
      "  warnings.warn(\n"
     ]
    },
    {
     "name": "stdout",
     "output_type": "stream",
     "text": [
      "model_forest training time: 8.107223749160767 seconds\n",
      "model_forest prediction time: 0.01540994644165039 seconds\n"
     ]
    },
    {
     "name": "stderr",
     "output_type": "stream",
     "text": [
      "/home/jwshee/.pyenv/versions/3.10.6/envs/lewagon/lib/python3.10/site-packages/sklearn/utils/validation.py:1858: FutureWarning: Feature names only support names that are all strings. Got feature names with dtypes: ['int', 'str']. An error will be raised in 1.2.\n",
      "  warnings.warn(\n"
     ]
    }
   ],
   "source": [
    "models=[model_lgb,model_xg,model_forest]\n",
    "models_name=['model_lgb','model_xg','model_forest']\n",
    "train_model = {}\n",
    "training_times = {}\n",
    "prediction_times = {}\n",
    "accuracy = {}\n",
    "f1 = {}\n",
    "recall = {}\n",
    "precision = {}\n",
    "for index,model in zip(models_name,models):\n",
    "    \n",
    "    start_train=time.time()\n",
    "    model.fit(X_train_res,y_train_res_encoded)\n",
    "    training_time=time.time()-start_train\n",
    "    print(f\"{index} training time: {training_time} seconds\")\n",
    "\n",
    "    start_predict=time.time()\n",
    "    y_pred=model.predict(X_test)\n",
    "    prediction_time=time.time()-start_predict\n",
    "    print(f\"{index} prediction time: {prediction_time} seconds\")\n",
    "    \n",
    "    score_acc=accuracy_score(y_test_encoded,y_pred)\n",
    "    score_f1=f1_score(y_test_encoded,y_pred,average='micro')\n",
    "    score_rec=recall_score(y_test_encoded,y_pred,average='micro')\n",
    "    score_pre=precision_score(y_test_encoded,y_pred,average='micro')\n",
    "    \n",
    "    \n",
    "    train_model[index]=model\n",
    "    training_times[index]=training_time\n",
    "    prediction_times[index]=prediction_time\n",
    "    accuracy[index]=score_acc\n",
    "    f1[index] =score_f1\n",
    "    recall[index]= score_rec\n",
    "    precision [index]=score_pre"
   ]
  },
  {
   "cell_type": "markdown",
   "metadata": {},
   "source": [
    "# Create a dataframe to overview the performance of different model"
   ]
  },
  {
   "cell_type": "code",
   "execution_count": 54,
   "metadata": {},
   "outputs": [
    {
     "data": {
      "text/html": [
       "<div>\n",
       "<style scoped>\n",
       "    .dataframe tbody tr th:only-of-type {\n",
       "        vertical-align: middle;\n",
       "    }\n",
       "\n",
       "    .dataframe tbody tr th {\n",
       "        vertical-align: top;\n",
       "    }\n",
       "\n",
       "    .dataframe thead th {\n",
       "        text-align: right;\n",
       "    }\n",
       "</style>\n",
       "<table border=\"1\" class=\"dataframe\">\n",
       "  <thead>\n",
       "    <tr style=\"text-align: right;\">\n",
       "      <th></th>\n",
       "      <th>accuracy</th>\n",
       "      <th>recall</th>\n",
       "      <th>precision</th>\n",
       "      <th>training_time</th>\n",
       "      <th>prediction_time</th>\n",
       "    </tr>\n",
       "  </thead>\n",
       "  <tbody>\n",
       "    <tr>\n",
       "      <th>model_lgb</th>\n",
       "      <td>0.434118</td>\n",
       "      <td>0.434118</td>\n",
       "      <td>0.434118</td>\n",
       "      <td>2.750258</td>\n",
       "      <td>0.011474</td>\n",
       "    </tr>\n",
       "    <tr>\n",
       "      <th>model_xg</th>\n",
       "      <td>0.396471</td>\n",
       "      <td>0.396471</td>\n",
       "      <td>0.396471</td>\n",
       "      <td>17.379939</td>\n",
       "      <td>0.005774</td>\n",
       "    </tr>\n",
       "    <tr>\n",
       "      <th>model_forest</th>\n",
       "      <td>0.369412</td>\n",
       "      <td>0.369412</td>\n",
       "      <td>0.369412</td>\n",
       "      <td>8.107224</td>\n",
       "      <td>0.015410</td>\n",
       "    </tr>\n",
       "  </tbody>\n",
       "</table>\n",
       "</div>"
      ],
      "text/plain": [
       "              accuracy    recall  precision  training_time  prediction_time\n",
       "model_lgb     0.434118  0.434118   0.434118       2.750258         0.011474\n",
       "model_xg      0.396471  0.396471   0.396471      17.379939         0.005774\n",
       "model_forest  0.369412  0.369412   0.369412       8.107224         0.015410"
      ]
     },
     "execution_count": 54,
     "metadata": {},
     "output_type": "execute_result"
    }
   ],
   "source": [
    "rows = list(accuracy.keys())\n",
    "cols = ['accuracy', 'recall', 'precision', 'training_time', 'prediction_time']\n",
    "\n",
    "acc = [accuracy[i] for i in rows]\n",
    "rec = [recall[i] for i in rows]\n",
    "pre = [precision[i] for i in rows]\n",
    "train_time = [training_times[i] for i in rows]\n",
    "pred_time = [prediction_times[i] for i in rows]\n",
    "\n",
    "check = pd.DataFrame({cols[0]:acc, cols[1]: rec,\n",
    "                      cols[2]: pre, cols[3]: train_time,\n",
    "                      cols[4]: pred_time}, index=rows)\n",
    "check"
   ]
  },
  {
   "cell_type": "markdown",
   "metadata": {},
   "source": [
    "# Call all the trained model to do prediction directly via the trained dictionary. Then we store all the predicted result given a model in the dictionary as well. Given the key as the name of model, the predicted result from the model will be displayed."
   ]
  },
  {
   "cell_type": "code",
   "execution_count": 38,
   "metadata": {},
   "outputs": [
    {
     "name": "stderr",
     "output_type": "stream",
     "text": [
      "/home/jwshee/.pyenv/versions/3.10.6/envs/lewagon/lib/python3.10/site-packages/sklearn/utils/validation.py:1858: FutureWarning: Feature names only support names that are all strings. Got feature names with dtypes: ['int', 'str']. An error will be raised in 1.2.\n",
      "  warnings.warn(\n"
     ]
    }
   ],
   "source": [
    "prediction={}\n",
    "for i in train_model:    \n",
    "    y_pred=train_model[i].predict(X_test)\n",
    "    prediction[i]=y_pred"
   ]
  },
  {
   "cell_type": "markdown",
   "metadata": {},
   "source": [
    "# Saved the selected xgb model"
   ]
  },
  {
   "cell_type": "code",
   "execution_count": null,
   "metadata": {},
   "outputs": [],
   "source": [
    "# # Save the trained model\n",
    "# model_xg.save_model('xgb_model_2906.xgb')"
   ]
  },
  {
   "cell_type": "markdown",
   "metadata": {},
   "source": [
    "# Check the classfication report for the performance of different model"
   ]
  },
  {
   "cell_type": "code",
   "execution_count": 39,
   "metadata": {},
   "outputs": [
    {
     "name": "stdout",
     "output_type": "stream",
     "text": [
      "lgb               precision    recall  f1-score   support\n",
      "\n",
      "           0       0.97      0.99      0.98        68\n",
      "           1       1.00      0.99      0.99        69\n",
      "           2       1.00      1.00      1.00        64\n",
      "           3       0.99      1.00      0.99        80\n",
      "           4       1.00      1.00      1.00        54\n",
      "           5       0.98      1.00      0.99        57\n",
      "           6       1.00      1.00      1.00        56\n",
      "           7       1.00      1.00      1.00        55\n",
      "           8       0.98      0.92      0.95        59\n",
      "           9       0.96      0.93      0.95        56\n",
      "          10       1.00      0.98      0.99        57\n",
      "          11       0.97      0.99      0.98        76\n",
      "          12       1.00      0.98      0.99        50\n",
      "          13       1.00      1.00      1.00        40\n",
      "          14       0.97      0.97      0.97        73\n",
      "          15       0.98      1.00      0.99        46\n",
      "          16       1.00      0.95      0.98        42\n",
      "          17       1.00      0.86      0.92        70\n",
      "          18       0.96      0.98      0.97        65\n",
      "          19       0.98      1.00      0.99        41\n",
      "          20       0.75      0.96      0.84        46\n",
      "          21       0.96      0.93      0.94        71\n",
      "          22       1.00      1.00      1.00        69\n",
      "          23       0.99      0.99      0.99        67\n",
      "          24       0.96      0.99      0.97        70\n",
      "          25       1.00      1.00      1.00        50\n",
      "\n",
      "    accuracy                           0.98      1551\n",
      "   macro avg       0.98      0.98      0.98      1551\n",
      "weighted avg       0.98      0.98      0.98      1551\n",
      "\n",
      "xg               precision    recall  f1-score   support\n",
      "\n",
      "           0       0.97      0.97      0.97        68\n",
      "           1       1.00      1.00      1.00        69\n",
      "           2       0.98      1.00      0.99        64\n",
      "           3       1.00      0.99      0.99        80\n",
      "           4       1.00      1.00      1.00        54\n",
      "           5       1.00      1.00      1.00        57\n",
      "           6       0.98      0.98      0.98        56\n",
      "           7       1.00      1.00      1.00        55\n",
      "           8       0.98      0.95      0.97        59\n",
      "           9       0.98      0.95      0.96        56\n",
      "          10       1.00      0.98      0.99        57\n",
      "          11       0.97      0.99      0.98        76\n",
      "          12       1.00      0.98      0.99        50\n",
      "          13       1.00      0.95      0.97        40\n",
      "          14       0.97      0.97      0.97        73\n",
      "          15       0.98      1.00      0.99        46\n",
      "          16       1.00      0.98      0.99        42\n",
      "          17       1.00      0.90      0.95        70\n",
      "          18       0.93      0.98      0.96        65\n",
      "          19       0.98      1.00      0.99        41\n",
      "          20       0.80      0.96      0.87        46\n",
      "          21       0.96      0.94      0.95        71\n",
      "          22       1.00      1.00      1.00        69\n",
      "          23       0.99      0.99      0.99        67\n",
      "          24       0.97      0.99      0.98        70\n",
      "          25       1.00      1.00      1.00        50\n",
      "\n",
      "    accuracy                           0.98      1551\n",
      "   macro avg       0.98      0.98      0.98      1551\n",
      "weighted avg       0.98      0.98      0.98      1551\n",
      "\n",
      "forest               precision    recall  f1-score   support\n",
      "\n",
      "           0       0.97      0.96      0.96        68\n",
      "           1       1.00      1.00      1.00        69\n",
      "           2       0.97      1.00      0.98        64\n",
      "           3       0.99      0.97      0.98        80\n",
      "           4       1.00      1.00      1.00        54\n",
      "           5       1.00      1.00      1.00        57\n",
      "           6       1.00      1.00      1.00        56\n",
      "           7       1.00      1.00      1.00        55\n",
      "           8       0.98      0.95      0.97        59\n",
      "           9       0.98      0.95      0.96        56\n",
      "          10       1.00      1.00      1.00        57\n",
      "          11       1.00      0.99      0.99        76\n",
      "          12       1.00      0.98      0.99        50\n",
      "          13       0.97      0.97      0.97        40\n",
      "          14       0.95      0.99      0.97        73\n",
      "          15       0.98      1.00      0.99        46\n",
      "          16       1.00      0.98      0.99        42\n",
      "          17       0.98      0.86      0.92        70\n",
      "          18       0.96      0.98      0.97        65\n",
      "          19       1.00      1.00      1.00        41\n",
      "          20       0.68      0.91      0.78        46\n",
      "          21       0.95      0.86      0.90        71\n",
      "          22       1.00      1.00      1.00        69\n",
      "          23       0.99      1.00      0.99        67\n",
      "          24       0.99      0.99      0.99        70\n",
      "          25       1.00      1.00      1.00        50\n",
      "\n",
      "    accuracy                           0.97      1551\n",
      "   macro avg       0.97      0.97      0.97      1551\n",
      "weighted avg       0.98      0.97      0.97      1551\n",
      "\n"
     ]
    }
   ],
   "source": [
    "print('lgb', classification_report(y_test_encoded,prediction['model_lgb']))\n",
    "print('xg', classification_report(y_test_encoded,prediction['model_xg']))\n",
    "print('forest', classification_report(y_test_encoded,prediction['model_forest']))\n",
    "# print('SVC', classification_report(y_test_encoded,prediction['model_svc']))\n",
    "# print('kneighbour', classification_report(y_test_encoded,prediction['model_k']))"
   ]
  },
  {
   "cell_type": "markdown",
   "metadata": {},
   "source": [
    "# Plot the confusion matrix for the xgb model"
   ]
  },
  {
   "cell_type": "code",
   "execution_count": null,
   "metadata": {},
   "outputs": [],
   "source": [
    "plt.figure(figsize=(16,9))\n",
    "alphabet_labels = list(string.ascii_uppercase)\n",
    "sns.heatmap(confusion_matrix(y_test_encoded,prediction['model_xg']), annot=True, xticklabels=alphabet_labels, yticklabels=alphabet_labels)\n",
    "plt.show();"
   ]
  },
  {
   "cell_type": "markdown",
   "metadata": {},
   "source": [
    "# Check how the encoder label the target"
   ]
  },
  {
   "cell_type": "code",
   "execution_count": null,
   "metadata": {},
   "outputs": [],
   "source": [
    "for idx, i in enumerate(encoder.__dict__['classes_']):\n",
    "    print(f'{idx} -> {i}')"
   ]
  },
  {
   "cell_type": "markdown",
   "metadata": {},
   "source": [
    "# Trying to use hyperopt to fine tune different model. Then finally save the best model. Can ignore everything from here onward"
   ]
  },
  {
   "cell_type": "code",
   "execution_count": null,
   "metadata": {},
   "outputs": [],
   "source": [
    "def increase_precision(params):   \n",
    "    model_lgb=LGBMClassifier(boosting_type='dart',\n",
    "                             num_leaves=int(params['num_leaves']),\n",
    "                             max_depth=int(params['max_depth']),\n",
    "                             n_estimators=int(params['n_estimators']),\n",
    "                             objective='multiclass', n_jobs=-1,\n",
    "                             learning_rate=params['learning_rate'],\n",
    "                             reg_alpha=params['reg_alpha'],\n",
    "                             reg_lambda=params['reg_lambda'],\n",
    "                             min_child_samples=int(params['min_child_samples']))\n",
    "    \n",
    "    \n",
    "    \n",
    "    model_lgb.fit(X_train_res,y_train_res_encoded)\n",
    "    y_pred=model_lgb.predict(X_test)\n",
    "    accuracy =accuracy_score(y_test_encoded,y_pred)\n",
    "    score_pre=precision_score(y_test_encoded,y_pred,average='micro')\n",
    "\n",
    "    return {'loss': -score_pre, 'status': STATUS_OK}\n",
    "    \n",
    "    \n",
    "\n",
    "\n",
    "space = {\n",
    "    \"n_estimators\": hp.quniform(\"n_estimators\",50,250,5),\n",
    "    \"max_depth\": hp.quniform(\"max_depth\", 10, 250 ,5),\n",
    "    \"num_leaves\": hp.quniform(\"num_leaves\",20,100,5),\n",
    "    'min_child_samples':hp.quniform('min_child_samples',20,300,10),\n",
    "    'reg_alpha':hp.uniform('reg_alpha',0,5),\n",
    "    'reg_lambda':hp.uniform('reg_lambda',0,5),\n",
    "    \"learning_rate\": hp.uniform(\"learning_rate\",0.01,0.1)\n",
    "}\n",
    "trials=Trials()\n",
    "best = fmin(fn=increase_precision,\n",
    "    space = space, \n",
    "    algo=tpe.suggest, \n",
    "    max_evals=50, \n",
    "    trials=trials\n",
    ")\n",
    "\n",
    "print(\"Best Hyperparameters:\",best)\n"
   ]
  },
  {
   "cell_type": "code",
   "execution_count": null,
   "metadata": {},
   "outputs": [],
   "source": [
    "scorer=make_scorer(precision_score)\n",
    "param_dist = {\n",
    "    'boosting_type': ['dart'],\n",
    "    'num_leaves': np.arange(20, 200,10),\n",
    "    'max_depth': np.arange(5, 50,1),\n",
    "    'learning_rate': [0.01,0.05,0.1,0.3],\n",
    "    'subsample': np.arange(0.4, 0.6,0.1),\n",
    "    'colsample_bytree': np.arange(0.4, 0.6,0.1),\n",
    "    'reg_alpha': np.arange(0, 1,0.2),\n",
    "    'reg_lambda': np.arange(0, 1,0.2),\n",
    "    'min_child_samples': [100,200,300,400,500]\n",
    "}\n",
    "random_search = RandomizedSearchCV(model_lgb, param_dist, n_iter=10, cv=5,n_jobs=-1,scoring=scorer)\n",
    "random_search.fit(X_train_res,y_train_res_encoded)\n",
    "pd.DataFrame(random_search.cv_results_).sort_values(['mean_test_score'])"
   ]
  },
  {
   "cell_type": "code",
   "execution_count": null,
   "metadata": {},
   "outputs": [],
   "source": [
    "# random_search.best_estimator_"
   ]
  },
  {
   "cell_type": "code",
   "execution_count": null,
   "metadata": {},
   "outputs": [],
   "source": [
    "# param_dist = {'n_neighbors': np.arange(1, 20,2),\n",
    "#               'weights': ['uniform', 'distance'],\n",
    "#               'algorithm': ['auto', 'ball_tree', 'kd_tree', 'brute'],\n",
    "#               'p': [1, 2]}\n",
    "# random_search = RandomizedSearchCV(model_k, param_dist, n_iter=50, cv=5,n_jobs=-1)\n",
    "# random_search.fit(X_train_res,y_train_res_encoded)\n",
    "# pd.DataFrame(random_search.cv_results_).sort_values(['mean_test_score'])"
   ]
  },
  {
   "cell_type": "code",
   "execution_count": null,
   "metadata": {},
   "outputs": [],
   "source": [
    "# random_search.best_estimator_"
   ]
  },
  {
   "cell_type": "code",
   "execution_count": null,
   "metadata": {},
   "outputs": [],
   "source": [
    "# param_dist = {\n",
    "#     'max_depth': np.arange(3, 10,1),\n",
    "#     'learning_rate': [0.01,0.1,0.2, 0.3],\n",
    "#     'n_estimators': np.arange(100, 1000,25),\n",
    "#     'subsample': np.arange(0.4, 0.6,0.1),\n",
    "#     'colsample_bytree': np.arange(0.4,0.6, 0.1),\n",
    "#     'gamma': np.arange(0, 5,1),\n",
    "#     'reg_alpha': np.arange(0, 1,0.1),\n",
    "#     'reg_lambda': np.arange(0, 1,0.1),\n",
    "# }\n",
    "# random_search = RandomizedSearchCV(model_xg, param_dist, n_iter=10, cv=5,n_jobs=-1)\n",
    "# random_search.fit(X_train_res,y_train_res_encoded)\n",
    "# pd.DataFrame(random_search.cv_results_).sort_values(['mean_test_score'])"
   ]
  },
  {
   "cell_type": "code",
   "execution_count": null,
   "metadata": {},
   "outputs": [],
   "source": [
    "# param_grid = {'C': [0.1, 1, 10],\n",
    "#               'kernel': ['linear', 'rbf'],\n",
    "#               'gamma': [0.1, 1, 10]}\n",
    "\n",
    "# # Perform grid search with cross-validation\n",
    "# search = RandomizedSearchCV(model_svc, param_grid, cv=5,n_jobs=-1, n_iter=10,scoring='precision')\n",
    "# search.fit(X_train_res,y_train_res_encoded)\n",
    "\n",
    "# # Get the best hyperparameters and model\n",
    "# best_params = search.best_params_\n",
    "# best_model = search.best_estimator_\n",
    "\n",
    "# pd.DataFrame(search.cv_results_).sort_values(['mean_test_score'])"
   ]
  },
  {
   "cell_type": "code",
   "execution_count": null,
   "metadata": {},
   "outputs": [],
   "source": [
    "# param_dist = {\n",
    "#     'n_estimators': np.arange(50, 500,10),\n",
    "#     'max_depth': np.arange(5, 50,5),\n",
    "#     'min_samples_split': np.arange(2, 20,2),\n",
    "#     'min_samples_leaf': np.arange(1, 5,1),\n",
    "#     'max_features': ['auto', 'sqrt'],\n",
    "#     'bootstrap': [True, False],\n",
    "#     'criterion': ['gini', 'entropy']\n",
    "# }\n",
    "# search = RandomizedSearchCV(model_forest, param_grid, cv=5,n_jobs=-1, n_iter=10)\n",
    "# search.fit(X_train_res,y_train_res_encoded)\n",
    "# pd.DataFrame(search.cv_results_).sort_values(['mean_test_score'])"
   ]
  }
 ],
 "metadata": {
  "kernelspec": {
   "display_name": "lewagon",
   "language": "python",
   "name": "python3"
  },
  "language_info": {
   "codemirror_mode": {
    "name": "ipython",
    "version": 3
   },
   "file_extension": ".py",
   "mimetype": "text/x-python",
   "name": "python",
   "nbconvert_exporter": "python",
   "pygments_lexer": "ipython3",
   "version": "3.10.6"
  },
  "orig_nbformat": 4
 },
 "nbformat": 4,
 "nbformat_minor": 2
}
